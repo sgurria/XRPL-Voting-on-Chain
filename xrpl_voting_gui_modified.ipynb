{
 "cells": [
  {
   "cell_type": "markdown",
   "metadata": {},
   "source": [
    "# Complex"
   ]
  },
  {
   "cell_type": "code",
   "execution_count": 1,
   "metadata": {},
   "outputs": [],
   "source": [
    "import nest_asyncio\n",
    "nest_asyncio.apply()\n",
    "\n",
    "from xrpl.clients import JsonRpcClient\n",
    "from xrpl.wallet import generate_faucet_wallet\n",
    "\n",
    "import time\n",
    "import xrpl\n",
    "\n",
    "from xrpl.models.transactions import Payment, Memo\n",
    "from xrpl.transaction import safe_sign_and_autofill_transaction\n",
    "import binascii\n",
    "from xrpl.transaction import send_reliable_submission\n",
    "\n",
    "import PySimpleGUI as sg"
   ]
  },
  {
   "cell_type": "code",
   "execution_count": 2,
   "metadata": {},
   "outputs": [],
   "source": [
    "# create a network client\n",
    "client = JsonRpcClient(\"https://s.altnet.rippletest.net:51234\")\n",
    "# Set up middle organization's XRPL account\n",
    "org_account = generate_faucet_wallet(client)\n",
    "# Set up voter database (can be replaced with a more secure storage solution)\n",
    "voter_db = {\n",
    "    'john': {\n",
    "        'voted': False,\n",
    "        'otp': '1234',\n",
    "        'last_vote_time': 0\n",
    "    },\n",
    "    'jane': {\n",
    "        'voted': False,\n",
    "        'otp': '5678',\n",
    "        'last_vote_time': 0\n",
    "    }\n",
    "}\n",
    "for i in voter_db:\n",
    "    user_wallet = generate_faucet_wallet(client)\n",
    "    voter_db[i][\"wallet\"] = user_wallet\n",
    "\n",
    "#create candidates\n",
    "candidates_votes ={'ALICE': 0, 'BOB': 0, 'CHARLIE': 0, 'NONE': 0}"
   ]
  },
  {
   "cell_type": "code",
   "execution_count": 3,
   "metadata": {},
   "outputs": [],
   "source": [
    "# Set up time window for voting\n",
    "#vote_start_time = 1679241600 # March 18th, 2022 00:00:00 UTC\n",
    "#vote_end_time = 1679328000 # March 19th, 2022 00:00:00 UTC\n",
    "\n",
    "vote_start_time = int(time.time()) # Current time in seconds since the epoch\n",
    "vote_end_time = vote_start_time + 86400 "
   ]
  },
  {
   "cell_type": "code",
   "execution_count": 4,
   "metadata": {},
   "outputs": [],
   "source": [
    "# Define function to check if the user is authenticated\n",
    "def authenticate_user(username, otp):\n",
    "    if username in voter_db and voter_db[username]['otp'] == otp:\n",
    "        return True\n",
    "    else:\n",
    "        return False"
   ]
  },
  {
   "cell_type": "code",
   "execution_count": 5,
   "metadata": {},
   "outputs": [],
   "source": [
    "# Define function to check if the user can vote\n",
    "def can_vote(username):\n",
    "    if time.time() >= vote_start_time and time.time() <= vote_end_time:\n",
    "        if not voter_db[username]['voted']:\n",
    "            if time.time() - voter_db[username]['last_vote_time'] >= 86400: # One day in seconds\n",
    "                return True\n",
    "            else:\n",
    "                print('\\nYou have already voted today. Please try again tomorrow.')\n",
    "                return False\n",
    "        else:\n",
    "            print('\\nYou have already voted. Thank you!')\n",
    "            return False\n",
    "    else:\n",
    "        print('\\nVoting is closed. Please try again next time.')\n",
    "        return False\n"
   ]
  },
  {
   "cell_type": "code",
   "execution_count": 6,
   "metadata": {},
   "outputs": [],
   "source": [
    "def decoding_string(string):\n",
    "    vote = string.result[\"Memos\"][0][\"Memo\"][\"MemoData\"]\n",
    "    vote = binascii.unhexlify(vote.encode()).decode('utf8')\n",
    "    vote = vote.upper()\n",
    "    candidates_votes[vote] = candidates_votes[vote] + 1\n"
   ]
  },
  {
   "cell_type": "code",
   "execution_count": 7,
   "metadata": {},
   "outputs": [],
   "source": [
    "def correct_vote (vote):\n",
    "    if vote.upper() in candidates_votes.keys():\n",
    "        return True "
   ]
  },
  {
   "cell_type": "code",
   "execution_count": 8,
   "metadata": {},
   "outputs": [],
   "source": [
    "\n",
    "def cast_vote(username, candidate):\n",
    "    # Create a Payment transaction object with a memo\n",
    "    candidate_encode = binascii.hexlify(candidate.encode()).decode()\n",
    "    payment_tx = Payment(\n",
    "        account=voter_db[username][\"wallet\"].classic_address,\n",
    "        amount= \"1\",  # Amount to send (in drops)\n",
    "        destination=org_account.classic_address,\n",
    "        memos= [Memo(memo_data=candidate_encode)]\n",
    "\n",
    "    )\n",
    "\n",
    "    # Sign the transaction with the source account's secret\n",
    "    signed_tx = safe_sign_and_autofill_transaction(payment_tx, voter_db[username][\"wallet\"], client)\n",
    "    tx_response = send_reliable_submission(signed_tx, client)\n",
    "    tx_response\n",
    "    decoding_string(tx_response)\n",
    "    \n",
    "    #Stated the usrr that voted\n",
    "    voter_db[username][\"voted\"]=True\n"
   ]
  },
  {
   "cell_type": "code",
   "execution_count": 16,
   "metadata": {},
   "outputs": [],
   "source": [
    "def generate_vote():\n",
    "    sg.theme('Default')   # Add a touch of color\n",
    "    # All the stuff inside your window.\n",
    "    layout = [  [sg.Text('Name'), sg.InputText()],\n",
    "                [sg.Text('Password (OTP)'), sg.InputText()],\n",
    "                [sg.Button('Ok'), sg.Button('Cancel')] ]\n",
    "\n",
    "    # Create the Window\n",
    "    window = sg.Window('Window Title', layout)\n",
    "    # Event Loop to process \"events\" and get the \"values\" of the inputs\n",
    "    correct_user = False\n",
    "    while True:\n",
    "        event, values = window.read()\n",
    "        if event == \"Ok\":\n",
    "            if authenticate_user(values[0], values[1]):\n",
    "                if can_vote(values[0]):\n",
    "                    username = values[0]\n",
    "                    correct_user = True\n",
    "                    break\n",
    "                else:\n",
    "                    layout =  [ [sg.Text('You have already voted, thank you.')],\n",
    "                                [sg.Button('Close')]\n",
    "                                ]\n",
    "                    window.close()\n",
    "                    window = sg.Window('Window Title', layout)\n",
    "            else:\n",
    "                layout = [  [sg.Text('Name'), sg.InputText()],\n",
    "                [sg.Text('Password (OTP)'), sg.InputText()],\n",
    "                [sg.Text('Invalid username or OTP!!. Please try again.')],\n",
    "                [sg.Button('Ok'), sg.Button('Cancel')] ]\n",
    "                window.close()\n",
    "                window = sg.Window('User information', layout)\n",
    "        if event == sg.WIN_CLOSED or event == 'Cancel' or event == \"Close\": # if user closes window or clicks cancel\n",
    "            break\n",
    "\n",
    "    window.close()\n",
    "\n",
    "    voted_successful = False\n",
    "    if correct_user == True:\n",
    "        layout = [[sg.Text('Please enter the candidate you are voting for: ')],\n",
    "                [sg.Text('Options: Alice, Charlie, Bob, Blank')],\n",
    "                [sg.Text('candidate:'), sg.InputText()],\n",
    "                [sg.Button('Ok'), sg.Button('Cancel')]]\n",
    "        window = sg.Window('Candidate voting', layout)\n",
    "        while True:\n",
    "            event, values = window.read()\n",
    "            if correct_vote(values[0]):\n",
    "                window.close()\n",
    "                cast_vote(username, values[0])\n",
    "                voted_successful = True\n",
    "                break\n",
    "\n",
    "            else:\n",
    "                layout = [[sg.Text('Please enter the candidate you are voting for: ')],\n",
    "                [sg.Text('Options: Alice, Charlie, Bob, Blank')],\n",
    "                [sg.Text('candidate:'), sg.InputText()],\n",
    "                [sg.Text('Incorrect imput, please try again.')],\n",
    "                [sg.Button('Ok'), sg.Button('Cancel')]]\n",
    "                window.close()\n",
    "                window = sg.Window('Candidate voting', layout)\n",
    "                \n",
    "            if event == sg.WIN_CLOSED or event == 'Cancel': # if user closes window or clicks cancel\n",
    "                break\n",
    "            \n",
    "        \n",
    "        window.close()\n",
    "\n",
    "    if voted_successful == True:\n",
    "        layout = [[sg.Text('Your vote has been cast. Thank you!')],\n",
    "                [sg.Button('Close')]]\n",
    "        window = sg.Window('Done', layout)\n",
    "        while True:\n",
    "            event, values = window.read()\n",
    "            if event == sg.WIN_CLOSED or event == 'Close': # if user closes window or clicks cancel\n",
    "                break\n",
    "            \n",
    "\n",
    "    window.close()\n"
   ]
  },
  {
   "cell_type": "code",
   "execution_count": 17,
   "metadata": {},
   "outputs": [],
   "source": [
    "def vote_count():\n",
    "    sg.theme('Default')   # Add a touch of color\n",
    "    alice = 'Alice:'+\" \"+ str(candidates_votes[\"ALICE\"])\n",
    "    charlie = 'Charlie:'+\" \"+ str(candidates_votes[\"CHARLIE\"])\n",
    "    bob = 'Bob:'+\" \"+ str(candidates_votes[\"BOB\"])\n",
    "    none = 'None:'+\" \"+ str(candidates_votes[\"NONE\"])\n",
    "    total = 'Total:'+\" \"+ str(candidates_votes[\"NONE\"] + candidates_votes[\"BOB\"] + candidates_votes[\"CHARLIE\"] + candidates_votes[\"ALICE\"])\n",
    "    layout = [[sg.Text(alice)],\n",
    "            [sg.Text(charlie)],\n",
    "            [sg.Text(bob)],\n",
    "            [sg.Text(none)],\n",
    "            [sg.Text(total)],\n",
    "            [sg.Button('Close')]]\n",
    "    window = sg.Window('Votes count', layout,)\n",
    "    while True:\n",
    "        event, values = window.read()\n",
    "        if event == sg.WIN_CLOSED or event == 'Close': # if user closes window or clicks cancel\n",
    "            break\n",
    "\n",
    "    window.close()"
   ]
  },
  {
   "cell_type": "code",
   "execution_count": 18,
   "metadata": {},
   "outputs": [
    {
     "data": {
      "text/plain": [
       "'rNR9VxuY5EATu9oRanqTiFxV1PCVpqoBCB'"
      ]
     },
     "execution_count": 18,
     "metadata": {},
     "output_type": "execute_result"
    }
   ],
   "source": [
    "org_account.classic_address"
   ]
  },
  {
   "cell_type": "code",
   "execution_count": 19,
   "metadata": {},
   "outputs": [
    {
     "name": "stdout",
     "output_type": "stream",
     "text": [
      "Window will be a boring gray. Try removing the theme call entirely\n",
      " You will get the default theme or the one set in global settings\n",
      "If you seriously want this gray window and no more nagging, add  theme('DefaultNoMoreNagging')  or theme('Gray Gray Gray') for completely gray/System Defaults\n",
      "\n",
      "You have already voted. Thank you!\n",
      "Window will be a boring gray. Try removing the theme call entirely\n",
      " You will get the default theme or the one set in global settings\n",
      "If you seriously want this gray window and no more nagging, add  theme('DefaultNoMoreNagging')  or theme('Gray Gray Gray') for completely gray/System Defaults\n"
     ]
    }
   ],
   "source": [
    "generate_vote()"
   ]
  },
  {
   "cell_type": "code",
   "execution_count": null,
   "metadata": {},
   "outputs": [],
   "source": []
  },
  {
   "cell_type": "code",
   "execution_count": 15,
   "metadata": {},
   "outputs": [
    {
     "name": "stdout",
     "output_type": "stream",
     "text": [
      "Window will be a boring gray. Try removing the theme call entirely\n",
      " You will get the default theme or the one set in global settings\n",
      "If you seriously want this gray window and no more nagging, add  theme('DefaultNoMoreNagging')  or theme('Gray Gray Gray') for completely gray/System Defaults\n"
     ]
    }
   ],
   "source": [
    "vote_count()"
   ]
  }
 ],
 "metadata": {
  "kernelspec": {
   "display_name": "Python 3 (ipykernel)",
   "language": "python",
   "name": "python3"
  },
  "language_info": {
   "codemirror_mode": {
    "name": "ipython",
    "version": 3
   },
   "file_extension": ".py",
   "mimetype": "text/x-python",
   "name": "python",
   "nbconvert_exporter": "python",
   "pygments_lexer": "ipython3",
   "version": "3.9.13"
  }
 },
 "nbformat": 4,
 "nbformat_minor": 1
}
