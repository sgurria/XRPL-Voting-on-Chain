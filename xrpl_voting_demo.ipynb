{
 "cells": [
  {
   "cell_type": "markdown",
   "metadata": {},
   "source": [
    "# Complex"
   ]
  },
  {
   "cell_type": "code",
   "execution_count": 1,
   "metadata": {},
   "outputs": [],
   "source": [
    "import nest_asyncio\n",
    "nest_asyncio.apply()\n",
    "\n",
    "from xrpl.clients import JsonRpcClient\n",
    "from xrpl.wallet import generate_faucet_wallet\n",
    "\n",
    "import time\n",
    "import xrpl\n",
    "\n",
    "from xrpl.models.transactions import Payment, Memo\n",
    "from xrpl.transaction import safe_sign_and_autofill_transaction\n",
    "import binascii\n",
    "from xrpl.transaction import send_reliable_submission"
   ]
  },
  {
   "cell_type": "code",
   "execution_count": 15,
   "metadata": {},
   "outputs": [],
   "source": [
    "# create a network client\n",
    "client = JsonRpcClient(\"https://s.altnet.rippletest.net:51234\")\n",
    "# Set up middle organization's XRPL account\n",
    "org_account = generate_faucet_wallet(client)\n",
    "# Set up voter database (can be replaced with a more secure storage solution)\n",
    "voter_db = {\n",
    "    'john': {\n",
    "        'voted': False,\n",
    "        'otp': '1234',\n",
    "        'last_vote_time': 0\n",
    "    },\n",
    "    'jane': {\n",
    "        'voted': False,\n",
    "        'otp': '5678',\n",
    "        'last_vote_time': 0\n",
    "    }\n",
    "}\n",
    "for i in voter_db:\n",
    "    user_wallet = generate_faucet_wallet(client)\n",
    "    voter_db[i][\"wallet\"] = user_wallet\n",
    "\n",
    "#create candidates\n",
    "candidates_votes ={'ALICE': 0, 'BOB': 0, 'CHARLIE': 0, '': 0}"
   ]
  },
  {
   "cell_type": "code",
   "execution_count": 17,
   "metadata": {},
   "outputs": [],
   "source": [
    "# Set up time window for voting\n",
    "#vote_start_time = 1679241600 # March 18th, 2022 00:00:00 UTC\n",
    "#vote_end_time = 1679328000 # March 19th, 2022 00:00:00 UTC\n",
    "\n",
    "vote_start_time = int(time.time()) # Current time in seconds since the epoch\n",
    "vote_end_time = vote_start_time + 86400 "
   ]
  },
  {
   "cell_type": "code",
   "execution_count": 18,
   "metadata": {},
   "outputs": [],
   "source": [
    "# Define function to check if the user is authenticated\n",
    "def authenticate_user(username, otp):\n",
    "    if username in voter_db and voter_db[username]['otp'] == otp:\n",
    "        return True\n",
    "    else:\n",
    "        return False"
   ]
  },
  {
   "cell_type": "code",
   "execution_count": 19,
   "metadata": {},
   "outputs": [],
   "source": [
    "# Define function to check if the user can vote\n",
    "def can_vote(username):\n",
    "    if time.time() >= vote_start_time and time.time() <= vote_end_time:\n",
    "        if not voter_db[username]['voted']:\n",
    "            if time.time() - voter_db[username]['last_vote_time'] >= 86400: # One day in seconds\n",
    "                return True\n",
    "            else:\n",
    "                print('\\nYou have already voted today. Please try again tomorrow.')\n",
    "                return False\n",
    "        else:\n",
    "            print('\\nYou have already voted. Thank you!')\n",
    "            return False\n",
    "    else:\n",
    "        print('\\nVoting is closed. Please try again next time.')\n",
    "        return False\n"
   ]
  },
  {
   "cell_type": "code",
   "execution_count": 20,
   "metadata": {},
   "outputs": [],
   "source": [
    "def decoding_string(string):\n",
    "    vote = string.result[\"Memos\"][0][\"Memo\"][\"MemoData\"]\n",
    "    vote = binascii.unhexlify(vote.encode()).decode('utf8')\n",
    "\n",
    "    candidates_votes[vote] = candidates_votes[vote] + 1\n"
   ]
  },
  {
   "cell_type": "code",
   "execution_count": 21,
   "metadata": {},
   "outputs": [],
   "source": [
    "\n",
    "def cast_vote(username):\n",
    "    if can_vote(username):\n",
    "        # Get user's vote\n",
    "        candidate = input(print('\\nPlease enter the candidate you are voting for: '))\n",
    "        candidate = candidate.upper()\n",
    "        # Check if candidate is valid\n",
    "        proven = True\n",
    "        if candidate not in candidates_votes.keys():\n",
    "            while proven == True:\n",
    "                print('\\nInvalid candidate. Please try again.')\n",
    "                candidate = input(print('Please enter the candidate you are voting for: '))\n",
    "                if candidate in candidates_votes.keys():\n",
    "                    proven = False\n",
    "\n",
    "        print(\"\\Processing your vote...\")\n",
    "        # Create a Payment transaction object with a memo\n",
    "        candidate_encode = binascii.hexlify(candidate.encode()).decode()\n",
    "        payment_tx = Payment(\n",
    "            account=voter_db[username][\"wallet\"].classic_address,\n",
    "            amount=\"1\",  # Amount to send (in drops)\n",
    "            destination=org_account.classic_address,\n",
    "            memos= [Memo(memo_data=candidate_encode)]\n",
    "\n",
    "        )\n",
    "\n",
    "        # Sign the transaction with the source account's secret\n",
    "        signed_tx = safe_sign_and_autofill_transaction(payment_tx, voter_db[username][\"wallet\"], client)\n",
    "        tx_response = send_reliable_submission(signed_tx, client)\n",
    "        tx_response\n",
    "        decoding_string(tx_response)\n",
    "        \n",
    "        #Stated the usrr that voted\n",
    "        voter_db[username][\"voted\"]=True\n",
    "        \n",
    "        print('\\nYour vote has been cast. Thank you!')\n"
   ]
  },
  {
   "cell_type": "code",
   "execution_count": 22,
   "metadata": {},
   "outputs": [
    {
     "name": "stdout",
     "output_type": "stream",
     "text": [
      "Please enter your username: \n",
      "Please enter your one-time password (OTP): \n",
      "\n",
      "Please enter the candidate you are voting for: \n",
      "\\Processing your vote...\n"
     ]
    }
   ],
   "source": [
    "# Test the voting system\n",
    "print('Please enter your username: ')\n",
    "username = input()\n",
    "print('Please enter your one-time password (OTP): ')\n",
    "otp = input()\n",
    "otp = str(otp)\n",
    "\n",
    "if authenticate_user(username, otp):\n",
    "    x = cast_vote(username)\n",
    "else:\n",
    "    print('\\nInvalid username or OTP. Please try again.')"
   ]
  }
 ],
 "metadata": {
  "kernelspec": {
   "display_name": "Python 3 (ipykernel)",
   "language": "python",
   "name": "python3"
  },
  "language_info": {
   "codemirror_mode": {
    "name": "ipython",
    "version": 3
   },
   "file_extension": ".py",
   "mimetype": "text/x-python",
   "name": "python",
   "nbconvert_exporter": "python",
   "pygments_lexer": "ipython3",
   "version": "3.10.9"
  }
 },
 "nbformat": 4,
 "nbformat_minor": 1
}
